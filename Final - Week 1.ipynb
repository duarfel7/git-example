{
 "cells": [
  {
   "cell_type": "markdown",
   "metadata": {},
   "source": [
    "## Project Idea\n",
    "\n",
    "mM objective is, through the data provided by foursquare and the Bogota City Hall, to segment Bogota's neighborhoods through an unsupervised algorithm such as KMeans, to determine the best place to establish a bar and restaurant supply store \n",
    "\n",
    "### A high level approach is as follows:\n",
    "\n",
    "The ForeSquare website allows you to obtain information about the main venues in the city, including bars and restaurants with their respective categories, for example fast food restaurante, peruvian restaurant, etc.  This list also contains geographic information of each location, which will allow you to segment the neighborhoods according to the type of venues in it and visualize their location throughout the city to determine the best place to establish a store for these bars and restaurants. \n",
    "\n",
    "\n",
    "### There are many data science aspect of this project including:\n",
    "\n",
    "Data Acquisition from Bogota Citi Hall and Foursquare <br/>\n",
    "Data Cleansing <br/>\n",
    "Data Analysis <br/>\n",
    "Machine Learning - unsupervised cloustering <br/>\n",
    "Prediction <br/>\n"
   ]
  },
  {
   "cell_type": "code",
   "execution_count": null,
   "metadata": {},
   "outputs": [],
   "source": []
  }
 ],
 "metadata": {
  "kernelspec": {
   "display_name": "Python 3",
   "language": "python",
   "name": "python3"
  },
  "language_info": {
   "codemirror_mode": {
    "name": "ipython",
    "version": 3
   },
   "file_extension": ".py",
   "mimetype": "text/x-python",
   "name": "python",
   "nbconvert_exporter": "python",
   "pygments_lexer": "ipython3",
   "version": "3.8.3"
  }
 },
 "nbformat": 4,
 "nbformat_minor": 4
}
